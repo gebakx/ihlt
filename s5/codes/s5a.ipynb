{
  "nbformat": 4,
  "nbformat_minor": 0,
  "metadata": {
    "colab": {
      "name": "s5a.ipynb",
      "provenance": []
    },
    "kernelspec": {
      "name": "python3",
      "display_name": "Python 3"
    },
    "language_info": {
      "name": "python"
    }
  },
  "cells": [
    {
      "cell_type": "markdown",
      "metadata": {
        "id": "TnAXh2NEAnqu"
      },
      "source": [
        "## WordNet Reader"
      ]
    },
    {
      "cell_type": "code",
      "metadata": {
        "colab": {
          "base_uri": "https://localhost:8080/"
        },
        "id": "bzdQPYNKA25p",
        "outputId": "c0a12844-8788-4cd4-95dc-f66ff34b9c11"
      },
      "source": [
        "import nltk\n",
        "nltk.download('wordnet')"
      ],
      "execution_count": 1,
      "outputs": [
        {
          "output_type": "stream",
          "text": [
            "[nltk_data] Downloading package wordnet to /root/nltk_data...\n",
            "[nltk_data]   Package wordnet is already up-to-date!\n"
          ],
          "name": "stdout"
        },
        {
          "output_type": "execute_result",
          "data": {
            "text/plain": [
              "True"
            ]
          },
          "metadata": {
            "tags": []
          },
          "execution_count": 1
        }
      ]
    },
    {
      "cell_type": "code",
      "metadata": {
        "id": "h3p7rB7ZAcPq"
      },
      "source": [
        "from nltk.corpus import wordnet as wn"
      ],
      "execution_count": 2,
      "outputs": []
    },
    {
      "cell_type": "markdown",
      "metadata": {
        "id": "_G6DNH_ZAuBY"
      },
      "source": [
        "### synsets"
      ]
    },
    {
      "cell_type": "code",
      "metadata": {
        "colab": {
          "base_uri": "https://localhost:8080/"
        },
        "id": "YT83t-mgArER",
        "outputId": "a1cc4f13-6b17-4715-fb81-36a66be03fde"
      },
      "source": [
        "wn.synsets('age','n')"
      ],
      "execution_count": 3,
      "outputs": [
        {
          "output_type": "execute_result",
          "data": {
            "text/plain": [
              "[Synset('age.n.01'),\n",
              " Synset('historic_period.n.01'),\n",
              " Synset('age.n.03'),\n",
              " Synset('long_time.n.01'),\n",
              " Synset('old_age.n.01')]"
            ]
          },
          "metadata": {
            "tags": []
          },
          "execution_count": 3
        }
      ]
    },
    {
      "cell_type": "code",
      "metadata": {
        "colab": {
          "base_uri": "https://localhost:8080/"
        },
        "id": "ekHwHUuBA7R5",
        "outputId": "475c5a15-7c6d-428a-d650-135720e0589f"
      },
      "source": [
        "age = wn.synset('age.n.1')\n",
        "age"
      ],
      "execution_count": 4,
      "outputs": [
        {
          "output_type": "execute_result",
          "data": {
            "text/plain": [
              "Synset('age.n.01')"
            ]
          },
          "metadata": {
            "tags": []
          },
          "execution_count": 4
        }
      ]
    },
    {
      "cell_type": "markdown",
      "metadata": {
        "id": "hY7o9rqxA_DC"
      },
      "source": [
        "### definitions, examples and lemmas"
      ]
    },
    {
      "cell_type": "code",
      "metadata": {
        "colab": {
          "base_uri": "https://localhost:8080/",
          "height": 35
        },
        "id": "2pXgDeeGBCzI",
        "outputId": "abd1f08f-599f-47da-a06a-8b37fd45b4b5"
      },
      "source": [
        "age.definition()"
      ],
      "execution_count": 5,
      "outputs": [
        {
          "output_type": "execute_result",
          "data": {
            "application/vnd.google.colaboratory.intrinsic+json": {
              "type": "string"
            },
            "text/plain": [
              "'how long something has existed'"
            ]
          },
          "metadata": {
            "tags": []
          },
          "execution_count": 5
        }
      ]
    },
    {
      "cell_type": "code",
      "metadata": {
        "colab": {
          "base_uri": "https://localhost:8080/"
        },
        "id": "5MnpfdXnBGEi",
        "outputId": "109bb5b0-64e6-45bb-c0b1-96aca7924548"
      },
      "source": [
        "age.examples()"
      ],
      "execution_count": 6,
      "outputs": [
        {
          "output_type": "execute_result",
          "data": {
            "text/plain": [
              "['it was replaced because of its age']"
            ]
          },
          "metadata": {
            "tags": []
          },
          "execution_count": 6
        }
      ]
    },
    {
      "cell_type": "code",
      "metadata": {
        "colab": {
          "base_uri": "https://localhost:8080/"
        },
        "id": "JWnUJ8RSBIfx",
        "outputId": "3f73774c-4181-4291-bc11-fb4d25212070"
      },
      "source": [
        "ls = wn.synsets('age','n')\n",
        "ll = ls[1].lemmas()\n",
        "[lemma.name() for lemma in ll]"
      ],
      "execution_count": 7,
      "outputs": [
        {
          "output_type": "execute_result",
          "data": {
            "text/plain": [
              "['historic_period', 'age']"
            ]
          },
          "metadata": {
            "tags": []
          },
          "execution_count": 7
        }
      ]
    },
    {
      "cell_type": "markdown",
      "metadata": {
        "id": "VFtqtq9mBP2A"
      },
      "source": [
        "### hyponyms and hypernyms"
      ]
    },
    {
      "cell_type": "code",
      "metadata": {
        "colab": {
          "base_uri": "https://localhost:8080/"
        },
        "id": "NKYd_RIyBR7C",
        "outputId": "534cc6d9-df87-43cd-af4b-9a0f60528d30"
      },
      "source": [
        "age.hyponyms()"
      ],
      "execution_count": 8,
      "outputs": [
        {
          "output_type": "execute_result",
          "data": {
            "text/plain": [
              "[Synset('bone_age.n.01'),\n",
              " Synset('chronological_age.n.01'),\n",
              " Synset('developmental_age.n.01'),\n",
              " Synset('fetal_age.n.01'),\n",
              " Synset('mental_age.n.01'),\n",
              " Synset('newness.n.01'),\n",
              " Synset('oldness.n.01'),\n",
              " Synset('oldness.n.02'),\n",
              " Synset('youngness.n.01')]"
            ]
          },
          "metadata": {
            "tags": []
          },
          "execution_count": 8
        }
      ]
    },
    {
      "cell_type": "code",
      "metadata": {
        "colab": {
          "base_uri": "https://localhost:8080/"
        },
        "id": "eGiJlRAeBZZD",
        "outputId": "d222863a-7614-4557-f68c-d8b228b24cc1"
      },
      "source": [
        "age.hypernyms()"
      ],
      "execution_count": 9,
      "outputs": [
        {
          "output_type": "execute_result",
          "data": {
            "text/plain": [
              "[Synset('property.n.02')]"
            ]
          },
          "metadata": {
            "tags": []
          },
          "execution_count": 9
        }
      ]
    },
    {
      "cell_type": "code",
      "metadata": {
        "colab": {
          "base_uri": "https://localhost:8080/"
        },
        "id": "CWLH3wcVBa3a",
        "outputId": "66655591-5ca7-4c2f-efbe-e78fbc3d982e"
      },
      "source": [
        "age.root_hypernyms()"
      ],
      "execution_count": 10,
      "outputs": [
        {
          "output_type": "execute_result",
          "data": {
            "text/plain": [
              "[Synset('entity.n.01')]"
            ]
          },
          "metadata": {
            "tags": []
          },
          "execution_count": 10
        }
      ]
    },
    {
      "cell_type": "code",
      "metadata": {
        "colab": {
          "base_uri": "https://localhost:8080/"
        },
        "id": "XJemtEw4BeMp",
        "outputId": "b7431b59-bd1b-426f-d6a5-3ec4353cb4dc"
      },
      "source": [
        "hyper = lambda s: s.hypernyms()\n",
        "list(age.closure(hyper))"
      ],
      "execution_count": 11,
      "outputs": [
        {
          "output_type": "execute_result",
          "data": {
            "text/plain": [
              "[Synset('property.n.02'),\n",
              " Synset('attribute.n.02'),\n",
              " Synset('abstraction.n.06'),\n",
              " Synset('entity.n.01')]"
            ]
          },
          "metadata": {
            "tags": []
          },
          "execution_count": 11
        }
      ]
    },
    {
      "cell_type": "code",
      "metadata": {
        "colab": {
          "base_uri": "https://localhost:8080/"
        },
        "id": "rQUxBqlVBiIc",
        "outputId": "9de1b2bc-1397-4af9-8d78-7362157b922e"
      },
      "source": [
        "age.tree(hyper)"
      ],
      "execution_count": 12,
      "outputs": [
        {
          "output_type": "execute_result",
          "data": {
            "text/plain": [
              "[Synset('age.n.01'),\n",
              " [Synset('property.n.02'),\n",
              "  [Synset('attribute.n.02'),\n",
              "   [Synset('abstraction.n.06'), [Synset('entity.n.01')]]]]]"
            ]
          },
          "metadata": {
            "tags": []
          },
          "execution_count": 12
        }
      ]
    },
    {
      "cell_type": "markdown",
      "metadata": {
        "id": "QsFbLiTtBlxj"
      },
      "source": [
        "### antonyms"
      ]
    },
    {
      "cell_type": "code",
      "metadata": {
        "colab": {
          "base_uri": "https://localhost:8080/"
        },
        "id": "G6WIAb3jBpe_",
        "outputId": "5c8e7b38-1aa3-4fc7-f67a-6321ba95f4f6"
      },
      "source": [
        "good = wn.synset('good.a.01')\n",
        "good.lemmas()[0].antonyms()"
      ],
      "execution_count": 13,
      "outputs": [
        {
          "output_type": "execute_result",
          "data": {
            "text/plain": [
              "[Lemma('bad.a.01.bad')]"
            ]
          },
          "metadata": {
            "tags": []
          },
          "execution_count": 13
        }
      ]
    },
    {
      "cell_type": "markdown",
      "metadata": {
        "id": "ogVJG-XGBsYD"
      },
      "source": [
        "### all lexical relations"
      ]
    },
    {
      "cell_type": "code",
      "metadata": {
        "colab": {
          "base_uri": "https://localhost:8080/"
        },
        "id": "ULjLkUG4BwS-",
        "outputId": "aa6b2553-acf9-4585-82ea-5eff458afa4e"
      },
      "source": [
        "def getRelValue(name):\n",
        "    method = getattr(age, rel)\n",
        "    return method()\n",
        "    \n",
        "lexRels = ['hypernyms', 'instance_hypernyms', 'hyponyms', 'instance_hyponyms', \\\n",
        "           'member_holonyms', 'substance_holonyms', 'part_holonyms', \\\n",
        "           'member_meronyms', 'substance_meronyms', 'part_meronyms', \\\n",
        "           'attributes', 'entailments', 'causes', 'also_sees', 'verb_groups', 'similar_tos']\n",
        "age = wn.synset('age.n.01')\n",
        "\n",
        "results = {}\n",
        "for rel in lexRels:\n",
        "    val = getRelValue(rel)\n",
        "    if val != []:\n",
        "        results[rel] = val\n",
        "results"
      ],
      "execution_count": 14,
      "outputs": [
        {
          "output_type": "execute_result",
          "data": {
            "text/plain": [
              "{'attributes': [Synset('immature.a.04'),\n",
              "  Synset('mature.a.03'),\n",
              "  Synset('new.a.01'),\n",
              "  Synset('old.a.01'),\n",
              "  Synset('old.a.02'),\n",
              "  Synset('young.a.01')],\n",
              " 'hypernyms': [Synset('property.n.02')],\n",
              " 'hyponyms': [Synset('bone_age.n.01'),\n",
              "  Synset('chronological_age.n.01'),\n",
              "  Synset('developmental_age.n.01'),\n",
              "  Synset('fetal_age.n.01'),\n",
              "  Synset('mental_age.n.01'),\n",
              "  Synset('newness.n.01'),\n",
              "  Synset('oldness.n.01'),\n",
              "  Synset('oldness.n.02'),\n",
              "  Synset('youngness.n.01')]}"
            ]
          },
          "metadata": {
            "tags": []
          },
          "execution_count": 14
        }
      ]
    },
    {
      "cell_type": "code",
      "metadata": {
        "colab": {
          "base_uri": "https://localhost:8080/"
        },
        "id": "2xbZXn9_B1y4",
        "outputId": "d289606c-5315-4c14-8f75-0b7fe413cc96"
      },
      "source": [
        "for rel in results:\n",
        "    for s in results[rel]:\n",
        "        print(rel, s.name())"
      ],
      "execution_count": 15,
      "outputs": [
        {
          "output_type": "stream",
          "text": [
            "hypernyms property.n.02\n",
            "hyponyms bone_age.n.01\n",
            "hyponyms chronological_age.n.01\n",
            "hyponyms developmental_age.n.01\n",
            "hyponyms fetal_age.n.01\n",
            "hyponyms mental_age.n.01\n",
            "hyponyms newness.n.01\n",
            "hyponyms oldness.n.01\n",
            "hyponyms oldness.n.02\n",
            "hyponyms youngness.n.01\n",
            "attributes immature.a.04\n",
            "attributes mature.a.03\n",
            "attributes new.a.01\n",
            "attributes old.a.01\n",
            "attributes old.a.02\n",
            "attributes young.a.01\n"
          ],
          "name": "stdout"
        }
      ]
    }
  ]
}