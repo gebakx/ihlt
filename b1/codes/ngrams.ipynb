{
 "cells": [
  {
   "cell_type": "markdown",
   "metadata": {},
   "source": [
    "## Trigrams with chars"
   ]
  },
  {
   "cell_type": "code",
   "execution_count": 1,
   "metadata": {},
   "outputs": [
    {
     "data": {
      "text/plain": [
       "[(('h', 'e', ' '), 3), ((' ', 't', 'h'), 2), (('t', 'h', 'e'), 3)]"
      ]
     },
     "execution_count": 1,
     "metadata": {},
     "output_type": "execute_result"
    }
   ],
   "source": [
    "from nltk.collocations import TrigramCollocationFinder\n",
    "\n",
    "sq = 'the cat and the dog of the man are quite'\n",
    "\n",
    "# trigrams generation by chars\n",
    "finder = TrigramCollocationFinder.from_words(sq)\n",
    "# filtering: remove less than 2\n",
    "finder.apply_freq_filter(2)\n",
    "\n",
    "[tr for tr in finder.ngram_fd.items()]"
   ]
  },
  {
   "cell_type": "markdown",
   "metadata": {},
   "source": [
    "## Bigrams with words"
   ]
  },
  {
   "cell_type": "code",
   "execution_count": 2,
   "metadata": {},
   "outputs": [
    {
     "data": {
      "text/plain": [
       "[(('and', 'the'), 1),\n",
       " (('the', 'man'), 1),\n",
       " (('the', 'dog'), 1),\n",
       " (('cat', 'and'), 1),\n",
       " (('of', 'the'), 1),\n",
       " (('dog', 'of'), 1),\n",
       " (('the', 'cat'), 1),\n",
       " (('are', 'quite'), 1),\n",
       " (('man', 'are'), 1)]"
      ]
     },
     "execution_count": 2,
     "metadata": {},
     "output_type": "execute_result"
    }
   ],
   "source": [
    "from nltk.collocations import BigramCollocationFinder\n",
    "from nltk import word_tokenize\n",
    "\n",
    "# bigrams generation by words\n",
    "finder = BigramCollocationFinder.from_words(word_tokenize(sq))\n",
    "\n",
    "[tr for tr in finder.ngram_fd.items()]"
   ]
  }
 ],
 "metadata": {
  "kernelspec": {
   "display_name": "Python 3",
   "language": "python",
   "name": "python3"
  },
  "language_info": {
   "codemirror_mode": {
    "name": "ipython",
    "version": 3
   },
   "file_extension": ".py",
   "mimetype": "text/x-python",
   "name": "python",
   "nbconvert_exporter": "python",
   "pygments_lexer": "ipython3",
   "version": "3.5.2"
  }
 },
 "nbformat": 4,
 "nbformat_minor": 2
}
