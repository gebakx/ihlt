{
  "nbformat": 4,
  "nbformat_minor": 0,
  "metadata": {
    "colab": {
      "name": "s8a.ipynb",
      "provenance": []
    },
    "kernelspec": {
      "name": "python3",
      "display_name": "Python 3"
    },
    "language_info": {
      "name": "python"
    }
  },
  "cells": [
    {
      "cell_type": "markdown",
      "metadata": {
        "id": "pUbPkPbhjibO"
      },
      "source": [
        "## Charts"
      ]
    },
    {
      "cell_type": "code",
      "metadata": {
        "id": "c33_G7Pijb74"
      },
      "source": [
        "import nltk\n",
        "from nltk import CFG, ChartParser\n",
        "\n",
        "grammar = CFG.fromstring('''\n",
        "  NP  -> NNS | JJ NNS | NP CC NP\n",
        "  NNS -> \"cats\" | \"dogs\" | \"mice\" | NNS CC NNS \n",
        "  JJ  -> \"big\" | \"small\"\n",
        "  CC  -> \"and\" | \"or\"\n",
        "  ''')\n",
        "\n",
        "sent = ['small', 'cats', 'and', 'mice']\n",
        "\n",
        "parser = ChartParser(grammar)\n",
        "parse = parser.parse(sent)"
      ],
      "execution_count": null,
      "outputs": []
    },
    {
      "cell_type": "code",
      "metadata": {
        "colab": {
          "base_uri": "https://localhost:8080/"
        },
        "id": "E9EmcEDPjr4p",
        "outputId": "4a48d44e-6744-409f-d710-b3a890ad1927"
      },
      "source": [
        "ts = []\n",
        "for t in parse:\n",
        "    ts.append(t)\n",
        "print('number of trees:', len(ts))"
      ],
      "execution_count": null,
      "outputs": [
        {
          "output_type": "stream",
          "text": [
            "number of trees: 2\n"
          ],
          "name": "stdout"
        }
      ]
    },
    {
      "cell_type": "code",
      "metadata": {
        "colab": {
          "base_uri": "https://localhost:8080/"
        },
        "id": "Sca0mcZPjw4I",
        "outputId": "f9771bfd-c6cf-49ef-eb2f-9c73775830e4"
      },
      "source": [
        "print(ts[0])"
      ],
      "execution_count": null,
      "outputs": [
        {
          "output_type": "stream",
          "text": [
            "(NP (JJ small) (NNS (NNS cats) (CC and) (NNS mice)))\n"
          ],
          "name": "stdout"
        }
      ]
    },
    {
      "cell_type": "code",
      "metadata": {
        "colab": {
          "base_uri": "https://localhost:8080/"
        },
        "id": "2lDy-A58j2vQ",
        "outputId": "416f9016-69ae-4a0c-dd3c-61df7d4097fb"
      },
      "source": [
        "# achieve the list of applied edges\n",
        "parse = parser.chart_parse(['small', 'cats', 'and', 'mice'])\n",
        "print(\"TD num edges = \",parse.num_edges())"
      ],
      "execution_count": null,
      "outputs": [
        {
          "output_type": "stream",
          "text": [
            "TD num edges =  28\n"
          ],
          "name": "stdout"
        }
      ]
    },
    {
      "cell_type": "code",
      "metadata": {
        "colab": {
          "base_uri": "https://localhost:8080/"
        },
        "id": "hVi-yUJKj6SY",
        "outputId": "5bb2e582-1e84-43c0-c24e-6df0b10c6583"
      },
      "source": [
        "parse.edges()"
      ],
      "execution_count": null,
      "outputs": [
        {
          "output_type": "execute_result",
          "data": {
            "text/plain": [
              "[[Edge: [0:1] 'small'],\n",
              " [Edge: [1:2] 'cats'],\n",
              " [Edge: [2:3] 'and'],\n",
              " [Edge: [3:4] 'mice'],\n",
              " [Edge: [0:1] JJ -> 'small' *],\n",
              " [Edge: [0:1] NP -> JJ * NNS],\n",
              " [Edge: [1:2] NNS -> 'cats' *],\n",
              " [Edge: [1:2] NP -> NNS *],\n",
              " [Edge: [1:2] NNS -> NNS * CC NNS],\n",
              " [Edge: [0:2] NP -> JJ NNS *],\n",
              " [Edge: [0:2] NP -> NP * CC NP],\n",
              " [Edge: [1:2] NP -> NP * CC NP],\n",
              " [Edge: [2:3] CC -> 'and' *],\n",
              " [Edge: [1:3] NNS -> NNS CC * NNS],\n",
              " [Edge: [0:3] NP -> NP CC * NP],\n",
              " [Edge: [1:3] NP -> NP CC * NP],\n",
              " [Edge: [3:4] NNS -> 'mice' *],\n",
              " [Edge: [3:4] NP -> NNS *],\n",
              " [Edge: [3:4] NNS -> NNS * CC NNS],\n",
              " [Edge: [1:4] NNS -> NNS CC NNS *],\n",
              " [Edge: [1:4] NP -> NNS *],\n",
              " [Edge: [1:4] NNS -> NNS * CC NNS],\n",
              " [Edge: [0:4] NP -> JJ NNS *],\n",
              " [Edge: [0:4] NP -> NP * CC NP],\n",
              " [Edge: [1:4] NP -> NP * CC NP],\n",
              " [Edge: [3:4] NP -> NP * CC NP],\n",
              " [Edge: [0:4] NP -> NP CC NP *],\n",
              " [Edge: [1:4] NP -> NP CC NP *]]"
            ]
          },
          "metadata": {
            "tags": []
          },
          "execution_count": 5
        }
      ]
    },
    {
      "cell_type": "code",
      "metadata": {
        "colab": {
          "base_uri": "https://localhost:8080/"
        },
        "id": "gPpL5ko7j8-Q",
        "outputId": "aa746e5c-b602-407d-f4e0-a60907784d4c"
      },
      "source": [
        "from nltk import TopDownChartParser\n",
        "\n",
        "parser = nltk.TopDownChartParser(grammar)\n",
        "parse = parser.parse(sent)\n",
        "ts = []\n",
        "for t in parse:\n",
        "    ts.append(t)\n",
        "len(ts)"
      ],
      "execution_count": null,
      "outputs": [
        {
          "output_type": "execute_result",
          "data": {
            "text/plain": [
              "2"
            ]
          },
          "metadata": {
            "tags": []
          },
          "execution_count": 6
        }
      ]
    },
    {
      "cell_type": "code",
      "metadata": {
        "colab": {
          "base_uri": "https://localhost:8080/"
        },
        "id": "98xkHcW4kFh1",
        "outputId": "23d2b558-13a7-4ed6-8543-f9934293280e"
      },
      "source": [
        "for t in ts:\n",
        "  print(t)"
      ],
      "execution_count": null,
      "outputs": [
        {
          "output_type": "stream",
          "text": [
            "(NP (JJ small) (NNS (NNS cats) (CC and) (NNS mice)))\n",
            "(NP (NP (JJ small) (NNS cats)) (CC and) (NP (NNS mice)))\n"
          ],
          "name": "stdout"
        }
      ]
    }
  ]
}