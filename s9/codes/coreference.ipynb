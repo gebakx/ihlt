{
 "cells": [
  {
   "cell_type": "markdown",
   "metadata": {},
   "source": [
    "## Coreference"
   ]
  },
  {
   "cell_type": "code",
   "execution_count": 1,
   "metadata": {},
   "outputs": [],
   "source": [
    "def show(d):\n",
    "    crs = d['corefs']\n",
    "    for k, num in zip(crs, range(1, len(crs) + 1)):\n",
    "        print('Chain', num, ':')\n",
    "        l = crs[k]\n",
    "        for e in l:\n",
    "            print('\\t',e['text'],e['gender'], e['number'],e['isRepresentativeMention'],e['type'])"
   ]
  },
  {
   "cell_type": "code",
   "execution_count": 2,
   "metadata": {},
   "outputs": [],
   "source": [
    "from nltk.parse import CoreNLPParser\n",
    "tagger = CoreNLPParser(url='http://localhost:9000')\n",
    "tagger.parser_annotator='tokenize,ssplit,pos,lemma,ner,depparse,coref'"
   ]
  },
  {
   "cell_type": "code",
   "execution_count": 3,
   "metadata": {},
   "outputs": [
    {
     "name": "stdout",
     "output_type": "stream",
     "text": [
      "Chain 1 :\n",
      "\t Barack Obama MALE SINGULAR True PROPER\n",
      "\t He MALE SINGULAR False PRONOMINAL\n",
      "\t Obama MALE SINGULAR False PROPER\n"
     ]
    }
   ],
   "source": [
    "text = \"Barack Obama was born in Hawaii.  He is the president. Obama was elected in 2008.\"\n",
    "res = tagger.api_call(text)\n",
    "show(res)"
   ]
  },
  {
   "cell_type": "code",
   "execution_count": 4,
   "metadata": {},
   "outputs": [
    {
     "name": "stdout",
     "output_type": "stream",
     "text": [
      "Chain 1 :\n",
      "\t He MALE SINGULAR False PRONOMINAL\n",
      "\t Barack Obama MALE SINGULAR True PROPER\n",
      "\t He MALE SINGULAR False PRONOMINAL\n"
     ]
    }
   ],
   "source": [
    "text = \"He is the president. Barack Obama was born in Hawaii. He was elected in 2008.\"\n",
    "res2 = tagger.api_call(text)\n",
    "show(res2)"
   ]
  },
  {
   "cell_type": "code",
   "execution_count": 5,
   "metadata": {},
   "outputs": [
    {
     "name": "stdout",
     "output_type": "stream",
     "text": [
      "Chain 1 :\n",
      "\t Michelle FEMALE SINGULAR True PROPER\n",
      "\t his MALE SINGULAR False PRONOMINAL\n",
      "\t He MALE SINGULAR False PRONOMINAL\n"
     ]
    }
   ],
   "source": [
    "text = \"Barack Obama was born in Hawaii. Michelle is his wife. He was elected in 2008.\"\n",
    "res3 = tagger.api_call(text)\n",
    "show(res3)"
   ]
  },
  {
   "cell_type": "code",
   "execution_count": 6,
   "metadata": {},
   "outputs": [
    {
     "name": "stdout",
     "output_type": "stream",
     "text": [
      "Chain 1 :\n",
      "\t the book her sister was reading NEUTRAL SINGULAR True NOMINAL\n",
      "\t it NEUTRAL SINGULAR False PRONOMINAL\n",
      "\t it NEUTRAL SINGULAR False PRONOMINAL\n",
      "Chain 2 :\n",
      "\t Alice FEMALE SINGULAR False PROPER\n",
      "\t her FEMALE SINGULAR False PRONOMINAL\n",
      "\t she FEMALE SINGULAR False PRONOMINAL\n",
      "\t her FEMALE SINGULAR False PRONOMINAL\n",
      "\t Alice ` without pictures or conversations FEMALE SINGULAR True PROPER\n",
      "Chain 3 :\n",
      "\t her sister FEMALE SINGULAR True NOMINAL\n",
      "\t her sister FEMALE SINGULAR False NOMINAL\n"
     ]
    }
   ],
   "source": [
    "text = \"\"\"Alice was beginning to get very tired of sitting by her sister on the\n",
    "bank, and of having nothing to do: once or twice she had peeped into the\n",
    "book her sister was reading, but it had no pictures or conversations in\n",
    "it, ‘and what is the use of a book,’ thought Alice ‘without pictures or\n",
    "conversations?’\"\"\"\n",
    "res4 = tagger.api_call(text)\n",
    "show(res4)"
   ]
  },
  {
   "cell_type": "code",
   "execution_count": 7,
   "metadata": {},
   "outputs": [
    {
     "data": {
      "text/plain": [
       "dict"
      ]
     },
     "execution_count": 7,
     "metadata": {},
     "output_type": "execute_result"
    }
   ],
   "source": [
    "type(res)"
   ]
  },
  {
   "cell_type": "code",
   "execution_count": 8,
   "metadata": {},
   "outputs": [
    {
     "data": {
      "text/plain": [
       "dict_keys(['corefs', 'sentences'])"
      ]
     },
     "execution_count": 8,
     "metadata": {},
     "output_type": "execute_result"
    }
   ],
   "source": [
    "res.keys()"
   ]
  },
  {
   "cell_type": "code",
   "execution_count": 9,
   "metadata": {},
   "outputs": [
    {
     "data": {
      "text/plain": [
       "{'3': [{'animacy': 'ANIMATE',\n",
       "   'endIndex': 3,\n",
       "   'gender': 'MALE',\n",
       "   'headIndex': 2,\n",
       "   'id': 0,\n",
       "   'isRepresentativeMention': True,\n",
       "   'number': 'SINGULAR',\n",
       "   'position': [1, 1],\n",
       "   'sentNum': 1,\n",
       "   'startIndex': 1,\n",
       "   'text': 'Barack Obama',\n",
       "   'type': 'PROPER'},\n",
       "  {'animacy': 'ANIMATE',\n",
       "   'endIndex': 2,\n",
       "   'gender': 'MALE',\n",
       "   'headIndex': 1,\n",
       "   'id': 3,\n",
       "   'isRepresentativeMention': False,\n",
       "   'number': 'SINGULAR',\n",
       "   'position': [2, 2],\n",
       "   'sentNum': 2,\n",
       "   'startIndex': 1,\n",
       "   'text': 'He',\n",
       "   'type': 'PRONOMINAL'},\n",
       "  {'animacy': 'ANIMATE',\n",
       "   'endIndex': 2,\n",
       "   'gender': 'MALE',\n",
       "   'headIndex': 1,\n",
       "   'id': 4,\n",
       "   'isRepresentativeMention': False,\n",
       "   'number': 'SINGULAR',\n",
       "   'position': [3, 1],\n",
       "   'sentNum': 3,\n",
       "   'startIndex': 1,\n",
       "   'text': 'Obama',\n",
       "   'type': 'PROPER'}]}"
      ]
     },
     "execution_count": 9,
     "metadata": {},
     "output_type": "execute_result"
    }
   ],
   "source": [
    "res['corefs']"
   ]
  }
 ],
 "metadata": {
  "kernelspec": {
   "display_name": "Python 3",
   "language": "python",
   "name": "python3"
  },
  "language_info": {
   "codemirror_mode": {
    "name": "ipython",
    "version": 3
   },
   "file_extension": ".py",
   "mimetype": "text/x-python",
   "name": "python",
   "nbconvert_exporter": "python",
   "pygments_lexer": "ipython3",
   "version": "3.6.8"
  }
 },
 "nbformat": 4,
 "nbformat_minor": 2
}
