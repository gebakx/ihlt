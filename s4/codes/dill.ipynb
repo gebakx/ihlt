{
 "cells": [
  {
   "cell_type": "markdown",
   "metadata": {},
   "source": [
    "## dill example"
   ]
  },
  {
   "cell_type": "code",
   "execution_count": null,
   "metadata": {},
   "outputs": [],
   "source": [
    "import dill\n",
    "\n",
    "# saving\n",
    "with open(\"tnt_treebank_pos_tagger\", \"wb\") as f:\n",
    "    dill.dump(TnT, f)\n",
    "\n",
    "# loading\n",
    "with open(\"tnt_treebank_pos_tagger\", \"rb\") as f:\n",
    "    TnT = dill.load(f)"
   ]
  }
 ],
 "metadata": {
  "kernelspec": {
   "display_name": "Python 3",
   "language": "python",
   "name": "python3"
  },
  "language_info": {
   "codemirror_mode": {
    "name": "ipython",
    "version": 3
   },
   "file_extension": ".py",
   "mimetype": "text/x-python",
   "name": "python",
   "nbconvert_exporter": "python",
   "pygments_lexer": "ipython3",
   "version": "3.5.2"
  }
 },
 "nbformat": 4,
 "nbformat_minor": 2
}
