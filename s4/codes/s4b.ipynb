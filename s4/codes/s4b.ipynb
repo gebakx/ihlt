{
  "nbformat": 4,
  "nbformat_minor": 0,
  "metadata": {
    "colab": {
      "name": "s4b.ipynb",
      "provenance": []
    },
    "kernelspec": {
      "name": "python3",
      "display_name": "Python 3"
    },
    "language_info": {
      "name": "python"
    }
  },
  "cells": [
    {
      "cell_type": "markdown",
      "metadata": {
        "id": "zFwmSut-2Lfg"
      },
      "source": [
        "## TnT"
      ]
    },
    {
      "cell_type": "code",
      "metadata": {
        "colab": {
          "base_uri": "https://localhost:8080/"
        },
        "id": "I2FrgQdQ2HwZ",
        "outputId": "10e625b0-56d0-452e-c672-63622ebcb1d0"
      },
      "source": [
        "import nltk\n",
        "nltk.download('treebank')"
      ],
      "execution_count": 1,
      "outputs": [
        {
          "output_type": "stream",
          "text": [
            "[nltk_data] Downloading package treebank to /root/nltk_data...\n",
            "[nltk_data]   Package treebank is already up-to-date!\n"
          ],
          "name": "stdout"
        },
        {
          "output_type": "execute_result",
          "data": {
            "text/plain": [
              "True"
            ]
          },
          "metadata": {
            "tags": []
          },
          "execution_count": 1
        }
      ]
    },
    {
      "cell_type": "code",
      "metadata": {
        "id": "6I4jBsXW2RXA"
      },
      "source": [
        "train_data = nltk.corpus.treebank.tagged_sents()[:30]\n",
        "test_data = nltk.corpus.treebank.tagged_sents()[3000:]"
      ],
      "execution_count": 2,
      "outputs": []
    },
    {
      "cell_type": "code",
      "metadata": {
        "colab": {
          "base_uri": "https://localhost:8080/",
          "height": 35
        },
        "id": "U1uRvNZO2Sa-",
        "outputId": "b4b282b5-7b05-4b7f-8e2e-cc8f89ace4fb"
      },
      "source": [
        "TnT = nltk.tag.tnt.TnT()\n",
        "TnT.train(train_data)\n",
        "\n",
        "'accuracy: ' + str(round(TnT.evaluate(test_data), 3))"
      ],
      "execution_count": 3,
      "outputs": [
        {
          "output_type": "execute_result",
          "data": {
            "application/vnd.google.colaboratory.intrinsic+json": {
              "type": "string"
            },
            "text/plain": [
              "'accuracy: 0.457'"
            ]
          },
          "metadata": {
            "tags": []
          },
          "execution_count": 3
        }
      ]
    },
    {
      "cell_type": "code",
      "metadata": {
        "colab": {
          "base_uri": "https://localhost:8080/"
        },
        "id": "2oUUzbm_2alG",
        "outputId": "31e6d168-011b-4f54-a730-a62f645d3bf4"
      },
      "source": [
        "TnT.tag(['the', 'men', 'attended', 'to', 'the', 'meetings'])"
      ],
      "execution_count": 4,
      "outputs": [
        {
          "output_type": "execute_result",
          "data": {
            "text/plain": [
              "[('the', 'DT'),\n",
              " ('men', 'NNS'),\n",
              " ('attended', 'Unk'),\n",
              " ('to', 'TO'),\n",
              " ('the', 'DT'),\n",
              " ('meetings', 'Unk')]"
            ]
          },
          "metadata": {
            "tags": []
          },
          "execution_count": 4
        }
      ]
    }
  ]
}