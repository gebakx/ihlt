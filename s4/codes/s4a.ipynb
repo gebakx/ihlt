{
  "nbformat": 4,
  "nbformat_minor": 0,
  "metadata": {
    "colab": {
      "name": "s4a.ipynb",
      "provenance": []
    },
    "kernelspec": {
      "name": "python3",
      "display_name": "Python 3"
    },
    "language_info": {
      "name": "python"
    }
  },
  "cells": [
    {
      "cell_type": "markdown",
      "metadata": {
        "id": "rC9ODHyX1Beh"
      },
      "source": [
        "## HMM"
      ]
    },
    {
      "cell_type": "code",
      "metadata": {
        "colab": {
          "base_uri": "https://localhost:8080/"
        },
        "id": "3JH3FV2_0TSx",
        "outputId": "12d11934-cf6d-475c-eecc-3a4a60c54bc3"
      },
      "source": [
        "import nltk\n",
        "nltk.download('treebank')"
      ],
      "execution_count": 1,
      "outputs": [
        {
          "output_type": "stream",
          "text": [
            "[nltk_data] Downloading package treebank to /root/nltk_data...\n",
            "[nltk_data]   Package treebank is already up-to-date!\n"
          ],
          "name": "stdout"
        },
        {
          "output_type": "execute_result",
          "data": {
            "text/plain": [
              "True"
            ]
          },
          "metadata": {
            "tags": []
          },
          "execution_count": 1
        }
      ]
    },
    {
      "cell_type": "code",
      "metadata": {
        "id": "NOVY5k5J1Ich"
      },
      "source": [
        "train_data = nltk.corpus.treebank.tagged_sents()[:30]\n",
        "test_data = nltk.corpus.treebank.tagged_sents()[3000:]"
      ],
      "execution_count": 2,
      "outputs": []
    },
    {
      "cell_type": "code",
      "metadata": {
        "colab": {
          "base_uri": "https://localhost:8080/",
          "height": 35
        },
        "id": "5S0Ii8QM1ZkP",
        "outputId": "25626149-9d83-4d96-9247-f2b9bc00b5cf"
      },
      "source": [
        "trainer = nltk.tag.hmm.HiddenMarkovModelTrainer()\n",
        "HMM = trainer.train_supervised(train_data)\n",
        "\n",
        "'accuracy: ' + str(round(HMM.evaluate(test_data), 3))"
      ],
      "execution_count": 3,
      "outputs": [
        {
          "output_type": "execute_result",
          "data": {
            "application/vnd.google.colaboratory.intrinsic+json": {
              "type": "string"
            },
            "text/plain": [
              "'accuracy: 0.106'"
            ]
          },
          "metadata": {
            "tags": []
          },
          "execution_count": 3
        }
      ]
    },
    {
      "cell_type": "code",
      "metadata": {
        "colab": {
          "base_uri": "https://localhost:8080/"
        },
        "id": "93JVqs_W1qkn",
        "outputId": "c28e24cc-0abd-4164-fd86-3300b73c5f1a"
      },
      "source": [
        "HMM.tag(['the', 'men', 'attended', 'to', 'the', 'meetings'])"
      ],
      "execution_count": 4,
      "outputs": [
        {
          "output_type": "execute_result",
          "data": {
            "text/plain": [
              "[('the', 'DT'),\n",
              " ('men', 'NNP'),\n",
              " ('attended', 'NNP'),\n",
              " ('to', 'NNP'),\n",
              " ('the', 'NNP'),\n",
              " ('meetings', 'NNP')]"
            ]
          },
          "metadata": {
            "tags": []
          },
          "execution_count": 4
        }
      ]
    }
  ]
}