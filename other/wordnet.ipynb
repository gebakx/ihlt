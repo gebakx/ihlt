{
 "cells": [
  {
   "cell_type": "markdown",
   "metadata": {},
   "source": [
    "# IHLT labs\n",
    "## WordNet\n",
    "https://github.com/recognai/spacy-wordnet"
   ]
  },
  {
   "cell_type": "code",
   "execution_count": 1,
   "metadata": {},
   "outputs": [],
   "source": [
    "import spacy\n",
    "nlp = spacy.load(\"en_core_web_sm\")\n",
    "# help(spacy.tokens.doc.Doc)"
   ]
  },
  {
   "cell_type": "code",
   "execution_count": 2,
   "metadata": {},
   "outputs": [],
   "source": [
    "from spacy_wordnet.wordnet_annotator import WordnetAnnotator \n",
    "nlp.add_pipe(WordnetAnnotator(nlp.lang), after='tagger')"
   ]
  },
  {
   "cell_type": "code",
   "execution_count": 3,
   "metadata": {},
   "outputs": [
    {
     "data": {
      "text/plain": [
       "[Synset('age.n.01'),\n",
       " Synset('historic_period.n.01'),\n",
       " Synset('age.n.03'),\n",
       " Synset('long_time.n.01'),\n",
       " Synset('old_age.n.01')]"
      ]
     },
     "execution_count": 3,
     "metadata": {},
     "output_type": "execute_result"
    }
   ],
   "source": [
    "token = nlp('age')[0]\n",
    "token._.wordnet.synsets()"
   ]
  },
  {
   "cell_type": "code",
   "execution_count": 4,
   "metadata": {},
   "outputs": [
    {
     "data": {
      "text/plain": [
       "Synset('age.n.01')"
      ]
     },
     "execution_count": 4,
     "metadata": {},
     "output_type": "execute_result"
    }
   ],
   "source": [
    "age = token._.wordnet.synsets()[0]\n",
    "age"
   ]
  },
  {
   "cell_type": "code",
   "execution_count": 5,
   "metadata": {},
   "outputs": [
    {
     "data": {
      "text/plain": [
       "[Lemma('age.n.01.age'),\n",
       " Lemma('historic_period.n.01.historic_period'),\n",
       " Lemma('historic_period.n.01.age'),\n",
       " Lemma('age.n.03.age'),\n",
       " Lemma('age.n.03.eld'),\n",
       " Lemma('long_time.n.01.long_time'),\n",
       " Lemma('long_time.n.01.age'),\n",
       " Lemma('long_time.n.01.years'),\n",
       " Lemma('old_age.n.01.old_age'),\n",
       " Lemma('old_age.n.01.years'),\n",
       " Lemma('old_age.n.01.age'),\n",
       " Lemma('old_age.n.01.eld'),\n",
       " Lemma('old_age.n.01.geezerhood')]"
      ]
     },
     "execution_count": 5,
     "metadata": {},
     "output_type": "execute_result"
    }
   ],
   "source": [
    "token._.wordnet.lemmas()"
   ]
  },
  {
   "cell_type": "code",
   "execution_count": 6,
   "metadata": {},
   "outputs": [
    {
     "data": {
      "text/plain": [
       "['quality',\n",
       " 'paleontology',\n",
       " 'literature',\n",
       " 'mythology',\n",
       " 'anthropology',\n",
       " 'time_period',\n",
       " 'architecture',\n",
       " 'history',\n",
       " 'heraldry',\n",
       " 'archaeology',\n",
       " 'mathematics',\n",
       " 'time_period',\n",
       " 'school',\n",
       " 'psychoanalysis',\n",
       " 'pedagogy',\n",
       " 'sport',\n",
       " 'physiology',\n",
       " 'sociology',\n",
       " 'psychiatry',\n",
       " 'person',\n",
       " 'baseball',\n",
       " 'medicine',\n",
       " 'statistics',\n",
       " 'law',\n",
       " 'insurance',\n",
       " 'dentistry',\n",
       " 'time_period',\n",
       " 'sociology',\n",
       " 'psychiatry',\n",
       " 'banking',\n",
       " 'photography',\n",
       " 'paleontology',\n",
       " 'quality',\n",
       " 'psychology',\n",
       " 'time_period',\n",
       " 'school',\n",
       " 'wrestling',\n",
       " 'person',\n",
       " 'applied_science',\n",
       " 'insurance']"
      ]
     },
     "execution_count": 6,
     "metadata": {},
     "output_type": "execute_result"
    }
   ],
   "source": [
    "# And automatically tags with wordnet domains\n",
    "token._.wordnet.wordnet_domains()"
   ]
  },
  {
   "cell_type": "markdown",
   "metadata": {},
   "source": [
    "## WordNet Similarities"
   ]
  },
  {
   "cell_type": "code",
   "execution_count": 7,
   "metadata": {},
   "outputs": [
    {
     "data": {
      "text/plain": [
       "Synset('dog.n.01')"
      ]
     },
     "execution_count": 7,
     "metadata": {},
     "output_type": "execute_result"
    }
   ],
   "source": [
    "token = nlp('dog')[0]\n",
    "dog = token._.wordnet.synsets()[0]\n",
    "dog"
   ]
  },
  {
   "cell_type": "code",
   "execution_count": 8,
   "metadata": {},
   "outputs": [
    {
     "data": {
      "text/plain": [
       "Synset('cat.n.01')"
      ]
     },
     "execution_count": 8,
     "metadata": {},
     "output_type": "execute_result"
    }
   ],
   "source": [
    "token = nlp('cat')[0]\n",
    "cat = token._.wordnet.synsets()[0]\n",
    "cat"
   ]
  },
  {
   "cell_type": "code",
   "execution_count": 9,
   "metadata": {},
   "outputs": [
    {
     "data": {
      "text/plain": [
       "0.2"
      ]
     },
     "execution_count": 9,
     "metadata": {},
     "output_type": "execute_result"
    }
   ],
   "source": [
    "dog.path_similarity(cat)"
   ]
  }
 ],
 "metadata": {
  "kernelspec": {
   "display_name": "Python 3",
   "language": "python",
   "name": "python3"
  },
  "language_info": {
   "codemirror_mode": {
    "name": "ipython",
    "version": 3
   },
   "file_extension": ".py",
   "mimetype": "text/x-python",
   "name": "python",
   "nbconvert_exporter": "python",
   "pygments_lexer": "ipython3",
   "version": "3.6.9"
  }
 },
 "nbformat": 4,
 "nbformat_minor": 2
}
